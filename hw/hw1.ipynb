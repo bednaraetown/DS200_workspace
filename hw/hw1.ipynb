{
 "cells": [
  {
   "cell_type": "markdown",
   "id": "98d9bf6a",
   "metadata": {},
   "source": [
    "# Data Science Success stories and Opportunities for Impact\n",
    "\n",
    "## August Bednar\n",
    "\n",
    "\n"
   ]
  },
  {
   "cell_type": "markdown",
   "id": "f77a5451",
   "metadata": {},
   "source": [
    "#### 1. Shell Energy and machine Failure\n",
    "In this application of data science Shell was having trouble knowing when to restock and when matinence issuses would happen until after parts began to fail. Their data science department collected streaming data captured through Apache Spark and used the Databricks tool along with Alteryx, C3, and SAP. With this Shell was able to plan on when to purchase and how long to keep these parts that were failing. With this data they were able to reduce inventory analasys from over 48 hours to less than 45 minuets, which in turn saves the company millions of dollars a year.\n",
    "\n",
    "\n"
   ]
  },
  {
   "cell_type": "markdown",
   "id": "aea9d84c",
   "metadata": {},
   "source": [
    "#### 2. Feed Data to Shrimp Farmers\n",
    "iQuatic is a mobile data-tracking app who's purpose is to help shrimp farmers reduce the mortality rate of their yeilds. It was developed by Cargill's animal nutrition unit at the CIO 100 Symposium in August. It scans enviormental factors like temperature, pH and nutrition and works with a automated feeding system. This system usues acoustic technology in order to understand natural feeding patterns of shrimp. This is great for shrimp farmers as they can earn a greater profit off of a more bountiful yeild."
   ]
  },
  {
   "cell_type": "markdown",
   "id": "117de732",
   "metadata": {},
   "source": [
    "#### 3. Marriott\n",
    "The hotel operator of Mariot,who has over 6,000 properties in 122 countries, says the key to staying competitive is through data science. Thier information is collected with a focus on things like  types of jobs customers and their family members hold or even the kinds of jeans they buy. They use this data to identify \"types\" of customers, examples of these would be those into fitness or those ho like being immersed in an unfamiliar culture. With this identificaton they can promote the proerties and amenities which fit their interests."
   ]
  },
  {
   "cell_type": "markdown",
   "id": "3b5044d2",
   "metadata": {},
   "source": [
    "#### 4. ARC tackles new data management\n",
    "Airlines Reporting Corp. (ARC), who settles more than $88 billion worth of airfare transactions, lives off of their data. Airline companies pay ARC to access their data which is ingested into analytic engines, refined, and built into custom reports. In order to help ARC get data products to market faster and offers greater scalability and performance they are switching from a Teradata data warehouse to cloud software from Snowflake. ARC will able to increase profits by creating new products tailored for customers that take new forms of data into account."
   ]
  },
  {
   "cell_type": "markdown",
   "id": "02b500a5",
   "metadata": {},
   "source": [
    "#### 5. Coca-Cola\n",
    "Coke colects its own data on its customers in order to boost current consumption and upsell its new products. Data is collected through the opinions on social media, phone or email. This use of data science has led to a more efficient operation that has allowed them to cut costs and boost profits. The approach is used in order to improve the brand experience and to developing greater customer loyalty."
   ]
  },
  {
   "cell_type": "markdown",
   "id": "c35da57e",
   "metadata": {},
   "source": [
    "#### 6. Netflix\n",
    "Netflix collects data through watching patterns to create a reccomendation algorithm has been quite successful in predicting what people will watch. They use this data to decide which new series are to be produced, as opposed to creativity from a producer. This is said to give Netflix a advantage over the compitition like Disney or Hulu. With this they can retain customers in order to maximize profits."
   ]
  },
  {
   "cell_type": "markdown",
   "id": "3265fe73",
   "metadata": {},
   "source": [
    "#### 7. Target\n",
    "Target collects their data from female customers using the baby-shower registry. With this they have been able to identify pregnant women by seeing what women buy larger quantities of unscented lotion wlong with to more than two dozen other products. This allows Target to use targeted promotions so women get information and coupons that they currently need. This helps build customer loyalty and increses profits."
   ]
  },
  {
   "cell_type": "markdown",
   "id": "807196b3",
   "metadata": {},
   "source": [
    "#### 8. Sporting Strategies\n",
    "Modern coaching uses big data in order to help create strategies for individuals or the team as a whole. Coaches can create hyper-personalized matchups and other strategies to optimize performance in every game played. Liverpool FC uses data like this in order to dominate the opponents in their league. This leaves the strategies unpredictable to the opponents but they are very effective, Liverpool FC ended up winning the Premeire League last year using this approach."
   ]
  },
  {
   "cell_type": "markdown",
   "id": "10f637a5",
   "metadata": {},
   "source": [
    "# High Level Categories\n",
    "### Marketing\n",
    "This category would collect the data of consumers, which could be from another buisness or from customers of the company looking to impliment this. This data will be organized into what certain groups of consumers like, and what they are likely to buy if the bought something else. Then a marketing stratigy could be used to convert more sales such as advertising or coupons / discount codes.\n",
    "\n",
    "### Sports\n",
    "There is already a massive ammount of data and different statistics out about all sports. This data would be put into models in order to figure out who should be signed to a team and who should be playing. This would create jobs in the front office of teams and on the coaching side.\n",
    "\n"
   ]
  },
  {
   "cell_type": "markdown",
   "id": "a38fe484",
   "metadata": {},
   "source": [
    "# Interests\n",
    "### Sports Strategies- \n",
    "I saw the movie 'Moneyball' and was interested on what exactly Jonah Hill's character did to produce his results. Also I play and watch baseball and would like to try to impliment this by myself.\n",
    "\n",
    "### Marketing- \n",
    "My dad is an entrepreneur and when I am not at school I work full time for him. I would like to be able to collect data from his customers and help him create a better marketing or remarketing strategy.\n",
    "\n",
    "### Dynamic Pricing- \n",
    "My interest for this also comes from my dads buisness, this would be helpful because his costs of products coming in is alwasys changing along with his competitors prices."
   ]
  }
 ],
 "metadata": {
  "kernelspec": {
   "display_name": "Python 3 (ipykernel)",
   "language": "python",
   "name": "python3"
  },
  "language_info": {
   "codemirror_mode": {
    "name": "ipython",
    "version": 3
   },
   "file_extension": ".py",
   "mimetype": "text/x-python",
   "name": "python",
   "nbconvert_exporter": "python",
   "pygments_lexer": "ipython3",
   "version": "3.9.7"
  }
 },
 "nbformat": 4,
 "nbformat_minor": 5
}
