{
 "cells": [
  {
   "cell_type": "markdown",
   "id": "a1b994ea",
   "metadata": {},
   "source": [
    "# Paper Reading Assignment\n",
    "## Assessing Candidate Preference through Web Browsing History"
   ]
  },
  {
   "cell_type": "markdown",
   "id": "b6b4417b",
   "metadata": {},
   "source": [
    "### From the introduction, background and related works sections:\n",
    "\n",
    "The question that is trying to be solved in this field is if certain factors lead to different distinct outcomes in candidate preference in the electorate.\n",
    "\n",
    "\n",
    "In the past the most popular canidate prediction method has been through surveys. The problem with surveys are \"response accuracy, question wording, questionnaire issues, and questionnon response, respondent selection, sampling frames and error, and survey administration\". Another method used to answer this question was to predict the popular vote. This proved incorrect due to the fact that in the 2016 election many of these models predicted Hillary Clinton to win when this did not end up being the case. It is also said that machine learning has not primarily been used to predict data, but instead for analyzing data. This paper is said to differ from previous through the use of machine learning to sctively predict the outcome using passively collected internet browsing data."
   ]
  },
  {
   "cell_type": "markdown",
   "id": "71ef1210",
   "metadata": {},
   "source": [
    "### From the design, algorithm, methods, or similar sections:  \n",
    "\n",
    "To answer this question the authors first decided on four features that will be used to predict the canidate selected. Then the data will have to be divided by state in order to create a new model based upon a method most similar to the electoral college. In order to overcome possible population variance over time the active users per day needs to be standardized. This was accomplished by making two more categories for users, weekday and weekends. These features that were broken down by catigories were then applied to a machine learning algorythm in order to produce the predicted values.\n"
   ]
  },
  {
   "cell_type": "markdown",
   "id": "03541b0d",
   "metadata": {},
   "source": [
    "### From the results, experiments, or similar sections:\n",
    "\n",
    "In Figure 6 the predictions form the model are directly compared to the polls as reported by the 538 site. In this the data points fit the line of best fit, except for the chart of November 7 when ME was over predicted by a large ammount. Figure 8 shows the impact of the 'Comey letter' as broken down per state. In this it is clear that overall the letter showed a negative difference in preference for the democratic canidate. Similarly in Figure 7 the 'Comey letter' is looked at but here it is broken down into a timeline of how for each day democratic preference changed. From these results it can be seen that the algorythm used is significant in predicting the correct outcome for the presidential race. I think that the main question of finding if the search results can lead to predicting the correct canidate was properly answered, but also the idea of an external factor such as the 'Comey letter' was thrown in as an extra argument."
   ]
  },
  {
   "cell_type": "markdown",
   "id": "bf708cf1",
   "metadata": {},
   "source": [
    "### From the conclusion, discussion, interpretation or similar sections.\n",
    "\n",
    "They think that the results mean the model is accurate and could be used to help with campaign stratigies and insights on political ads. I think that this could be very helpful for someone running for office to look at and see this type of data as broken down on a state level.\n",
    "\n",
    "The weekness that could arise are any outside force similar to the 'Comey letter', something like this could sway the results of an election so much that no ammount of campaigning could help the canidate."
   ]
  },
  {
   "cell_type": "markdown",
   "id": "c51ac311",
   "metadata": {},
   "source": [
    "### Go back to the beginning and read the abstract: \n",
    "\n",
    "For the most part the abstract does match with what the paper accomplishes, in terms of overcoming the challenges of using this type of data to recieve a canidate prediction. The abstract has no mention of the 'Comey letter' that comes up in the results section and two of the charts. To me it seemed that this letter was a lager part of the paper and should be mentioned in there.\n",
    "\n"
   ]
  },
  {
   "cell_type": "markdown",
   "id": "16931054",
   "metadata": {},
   "source": [
    "### Find out what other researchers say about the paper: \n",
    "\n",
    "Finind this information wasn't the easiest, but this paper was cited in \"Denoising Internet Delay Measurements using Weak\n",
    "Supervision\" by Anirudh Muthukumar and Ramakrishnan Durairajan where it is said that the efforts to apply machine learing to solve networking problems of interest to the community were improved using statistical techniques such as expectation maximization from this paper. This shows that the paper had a positive impact on what it was trying to accomplish, and this approach can be used on other questions using simlarly built data sets."
   ]
  }
 ],
 "metadata": {
  "kernelspec": {
   "display_name": "Python 3 (ipykernel)",
   "language": "python",
   "name": "python3"
  },
  "language_info": {
   "codemirror_mode": {
    "name": "ipython",
    "version": 3
   },
   "file_extension": ".py",
   "mimetype": "text/x-python",
   "name": "python",
   "nbconvert_exporter": "python",
   "pygments_lexer": "ipython3",
   "version": "3.9.12"
  }
 },
 "nbformat": 4,
 "nbformat_minor": 5
}
