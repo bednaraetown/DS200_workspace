{
 "cells": [
  {
   "cell_type": "markdown",
   "metadata": {},
   "source": [
    "# <center> DS 200 - Homework 2: Python and Numpy"
   ]
  },
  {
   "cell_type": "markdown",
   "metadata": {},
   "source": [
    "## Introduction:"
   ]
  },
  {
   "cell_type": "markdown",
   "metadata": {},
   "source": [
    "#### In this assignment, you are provided with some code snippets, and you are asked to complete the Python programs in each question. The programs are designed to give you practice with Python control flow, functions, list comprehension, lambda expression, useful Python functions and Numpy arrays. For function questions, you will need to remove the `pass` statement and edit the Python code accordingly to fulfill the functionality. "
   ]
  },
  {
   "cell_type": "markdown",
   "metadata": {},
   "source": [
    "## Q1 (10 points)"
   ]
  },
  {
   "cell_type": "markdown",
   "metadata": {},
   "source": [
    "#### Implement the functions `arith1()`, `arith2()`, `arith3()`, and `arith4()` in the provided spaces. Feel free to insert new cells and test your program."
   ]
  },
  {
   "cell_type": "code",
   "execution_count": 1,
   "metadata": {},
   "outputs": [],
   "source": [
    "def arith1(x):\n",
    "    \"\"\" \n",
    "    Given an integer number x, returns:\n",
    "        1) 0, if x is negative or 0;\n",
    "        2) x, if x is strictly positve and less than or equal to 10;\n",
    "        3) 10, if otherwise \n",
    "    \"\"\"\n",
    "    if x<=0.0:\n",
    "        num = 0.0\n",
    "    elif (x> 0.0) & (x<= 10.0):\n",
    "        num = x\n",
    "    else:\n",
    "        num = 10.0\n",
    "    return num"
   ]
  },
  {
   "cell_type": "markdown",
   "metadata": {},
   "source": [
    "#### Test case: if the result is `True`, that means your function passes the test cases. "
   ]
  },
  {
   "cell_type": "code",
   "execution_count": 2,
   "metadata": {},
   "outputs": [
    {
     "data": {
      "text/plain": [
       "True"
      ]
     },
     "execution_count": 2,
     "metadata": {},
     "output_type": "execute_result"
    }
   ],
   "source": [
    "arith1(-99) == 0 and arith1(9.5) == 9.5 and arith1(10.5) == 10"
   ]
  },
  {
   "cell_type": "code",
   "execution_count": 3,
   "metadata": {},
   "outputs": [],
   "source": [
    "def arith2(x, y):\n",
    "    \"\"\"\n",
    "    Given two integer numbers x and y, returns:\n",
    "        1) 2x + y, if x is strictly greater than y;\n",
    "        2) 4y - 3, if y is strictly greater than x;\n",
    "        3) x^3 + xy, if x is equal to y;\n",
    "    \"\"\"\n",
    "    if x>y:\n",
    "        temp = 2*x + y\n",
    "    elif y>x:\n",
    "        temp = 4*y-3\n",
    "    elif x == y:\n",
    "        temp = x**3 + x*y\n",
    "    return temp"
   ]
  },
  {
   "cell_type": "markdown",
   "metadata": {},
   "source": [
    "#### Test case: if the result is `True`, that means your function passes the test cases. "
   ]
  },
  {
   "cell_type": "code",
   "execution_count": 4,
   "metadata": {
    "scrolled": true
   },
   "outputs": [
    {
     "data": {
      "text/plain": [
       "True"
      ]
     },
     "execution_count": 4,
     "metadata": {},
     "output_type": "execute_result"
    }
   ],
   "source": [
    "arith2(5, 4) == 14 and arith2(3, 3) == 36 and arith2(3, 8) == 29"
   ]
  },
  {
   "cell_type": "code",
   "execution_count": 5,
   "metadata": {},
   "outputs": [],
   "source": [
    "def arith3(x, y, z):\n",
    "    \"\"\"\n",
    "    Given three integer numbers x, y, and z, returns:\n",
    "\n",
    "        1) 0, if any of the two numbers are the same;\n",
    "        2) 1, if the numbers are ordered such that x < y and y < z;\n",
    "        3) 2, if otherwise;\n",
    "    \"\"\"\n",
    "    if (x==y)|(x==z)|(y==z):\n",
    "        num = 0\n",
    "    elif (x<y)&(y<z):\n",
    "        num = 1\n",
    "    else:\n",
    "        num = 2\n",
    "    return num"
   ]
  },
  {
   "cell_type": "markdown",
   "metadata": {},
   "source": [
    "#### Test case: if the result is `True`, that means your function passes the test cases. "
   ]
  },
  {
   "cell_type": "code",
   "execution_count": 6,
   "metadata": {},
   "outputs": [
    {
     "data": {
      "text/plain": [
       "True"
      ]
     },
     "execution_count": 6,
     "metadata": {},
     "output_type": "execute_result"
    }
   ],
   "source": [
    "arith3(7, 8, 7) == 0 and arith3(3, 4, 5) == 1 and arith3(9, 9, 9) == 0 and arith3(9, 8, 7) == 2"
   ]
  },
  {
   "cell_type": "code",
   "execution_count": 7,
   "metadata": {},
   "outputs": [],
   "source": [
    "def arith4(x, y, z, w):\n",
    "    \"\"\" Given four integer numbers x, y, z, and w, returns:\n",
    "\n",
    "        1) the maximum of arith2(x, y) and arith2(z, w), if x is strictly less than y;\n",
    "        2) the sum of arith3(z, y, x) and arith1(w), if otherwise \"\"\"\n",
    "    if x<y:\n",
    "        temp1 = arith2(x, y)\n",
    "        temp2 = arith2(z, w)\n",
    "        if temp1>temp2:\n",
    "            num = temp1\n",
    "        else:\n",
    "            num = temp2\n",
    "    else:\n",
    "        num = arith3(z,y,x) + arith1(w)\n",
    "\n",
    "    return num"
   ]
  },
  {
   "cell_type": "markdown",
   "metadata": {},
   "source": [
    "#### Test case: if the result is `True`, that means your function passes the test cases. "
   ]
  },
  {
   "cell_type": "code",
   "execution_count": 8,
   "metadata": {},
   "outputs": [
    {
     "data": {
      "text/plain": [
       "True"
      ]
     },
     "execution_count": 8,
     "metadata": {},
     "output_type": "execute_result"
    }
   ],
   "source": [
    "arith4(5,2,3,4) == 6 and arith4(2, 5, 3, 4) == 17"
   ]
  },
  {
   "cell_type": "markdown",
   "metadata": {},
   "source": [
    "## Q2 (10 points)"
   ]
  },
  {
   "cell_type": "markdown",
   "metadata": {},
   "source": [
    "#### Implement the functions `seq_add()` in the provided spaces. You are not allowed to use the Python math library in this question. Feel free to insert new cells and test your program."
   ]
  },
  {
   "cell_type": "code",
   "execution_count": 81,
   "metadata": {},
   "outputs": [],
   "source": [
    "def seq_add(start, end, k):\n",
    "    \"\"\" \n",
    "    The function takes three arguments: start, end and k,\n",
    "    and returns the sum of every k-th number between start and end. \n",
    "    Assume start <= end and k > 0.\n",
    "    \n",
    "    For example:\n",
    "        seq_add(1, 10, 3) returns 1 + 4 + 7 + 10 = 22\n",
    "        seq_add(1, 11, 3) returns 1 + 4 + 7 + 10 = 22\n",
    "        seq_add(1, 5, 6) returns 1\n",
    "        seq_add(4, 9, 2) returns 4 + 6 + 8 = 18\n",
    "        seq_add(7, 7, 3) returns 7\n",
    "        seq_add(-4, 8, 5) returns -4 + 1 + 6 = 3\n",
    "\n",
    "    \"\"\"\n",
    "    if start == end:\n",
    "        return start\n",
    "    else:\n",
    "        num = start\n",
    "        temp = k\n",
    "        for i in range(start+k, end+1, k):\n",
    "            num+=i                       \n",
    "    return num"
   ]
  },
  {
   "cell_type": "markdown",
   "metadata": {},
   "source": [
    "#### Test case: if the result is `True`, that means your function passes the test cases. "
   ]
  },
  {
   "cell_type": "code",
   "execution_count": 83,
   "metadata": {
    "scrolled": true
   },
   "outputs": [
    {
     "data": {
      "text/plain": [
       "True"
      ]
     },
     "execution_count": 83,
     "metadata": {},
     "output_type": "execute_result"
    }
   ],
   "source": [
    "seq_add(1, 10, 3) == 22 and seq_add(1, 11, 3) == 22 and seq_add(1, 5, 6) == 1 and \\\n",
    "seq_add(4, 9, 2) == 18 and seq_add(7, 7, 3) == 7 and seq_add(-4, 8, 5) == 3"
   ]
  },
  {
   "cell_type": "markdown",
   "metadata": {},
   "source": [
    "#### Implement the functions fact() in the provided spaces. You are not allowed to use the Python math library in this question. Feel free to insert new cells and test your program."
   ]
  },
  {
   "cell_type": "code",
   "execution_count": 11,
   "metadata": {},
   "outputs": [],
   "source": [
    "def fact(n):\n",
    "    \"\"\" \n",
    "    This function takes an integer n as an input, and \n",
    "    returns n!, the factorial of n.  \n",
    "    If n <= 0, function returns 0.  \n",
    "    \n",
    "    For example:\n",
    "        fact(5) returns 5 * 4 * 3 * 2 * 1 = 120\n",
    "        fact(-2) returns 0\n",
    "    \"\"\"\n",
    "    if n <= 0:\n",
    "        ans = 0\n",
    "    else:\n",
    "        ans = 1\n",
    "        for i in range(1,n+1):\n",
    "            ans *=i\n",
    "            \n",
    "    return ans"
   ]
  },
  {
   "cell_type": "markdown",
   "metadata": {},
   "source": [
    "#### Test case: if the result is `True`, that means your function passes the test cases. "
   ]
  },
  {
   "cell_type": "code",
   "execution_count": 12,
   "metadata": {},
   "outputs": [
    {
     "data": {
      "text/plain": [
       "True"
      ]
     },
     "execution_count": 12,
     "metadata": {},
     "output_type": "execute_result"
    }
   ],
   "source": [
    "fact(5) == 120 and fact(-2) == 0 and fact(19) == 121645100408832000"
   ]
  },
  {
   "cell_type": "markdown",
   "metadata": {},
   "source": [
    "## Q3 (10 points)"
   ]
  },
  {
   "cell_type": "markdown",
   "metadata": {},
   "source": [
    "#### Implement the `word_counter()` function that counts the number of occurrences of each word from a given text. The function returns the word counts in a dictionary format. This function is NOT case insensitive, e.g. \"This\" and \"this\" should be treated as the same word. \n",
    "\n",
    "Sample input:  \n",
    "```\n",
    "This is a common message for people this message is private and circulate this with caution  \n",
    "```"
   ]
  },
  {
   "cell_type": "code",
   "execution_count": 11,
   "metadata": {},
   "outputs": [],
   "source": [
    "def word_counter(text_msg):\n",
    "    \"\"\"\n",
    "    Counts the number of occurrence of words from the input argument, returns word counts in a dictionary\n",
    "    \"\"\"\n",
    "    counts = dict()\n",
    "    words = text_msg.split()\n",
    "    for word in words:\n",
    "        if word in counts:\n",
    "            counts[word.lower()] += 1\n",
    "        else:\n",
    "            counts[word.lower()] = 1\n",
    "    \n",
    "    return counts"
   ]
  },
  {
   "cell_type": "markdown",
   "metadata": {},
   "source": [
    "#### Test case"
   ]
  },
  {
   "cell_type": "code",
   "execution_count": 12,
   "metadata": {},
   "outputs": [
    {
     "data": {
      "text/plain": [
       "{'this': 3,\n",
       " 'is': 2,\n",
       " 'a': 1,\n",
       " 'common': 1,\n",
       " 'message': 2,\n",
       " 'for': 1,\n",
       " 'people': 1,\n",
       " 'private': 1,\n",
       " 'and': 1,\n",
       " 'circulate': 1,\n",
       " 'with': 1,\n",
       " 'caution': 1}"
      ]
     },
     "execution_count": 12,
     "metadata": {},
     "output_type": "execute_result"
    }
   ],
   "source": [
    "message = 'This is a common message for people this message is private and circulate this with caution'\n",
    "word_counter(message)"
   ]
  },
  {
   "cell_type": "markdown",
   "metadata": {},
   "source": [
    "## Q4 (20 points)\n",
    "\n",
    "#### You are given an accounting routine used in the Etown's bookstore. The data is stored in a nested list, which looks like the following. \n",
    "\n",
    "| Order Number  | Book Title and Author             | Quantity | Price per Item |\n",
    "| ------------- |:---------------------------------:| --------:| ---------------|\n",
    "| 34587         | Learning Python, Mark Lutz        | 4        | 40.95          |\n",
    "| 98762         | Programming Python, Mark Lutz     | 5        | 56.80          |\n",
    "| 77226         | Head First Python, Paul Barry     | 3        | 32.95          |\n",
    "| 88112         | Einführung in Python3, Bernd Klein| 3        | 24.99          |\n",
    "\n",
    "#### Use `map()` function with lambda expression to return a list of 2-tuples. A 2-tuple is a tuple that has two elements. For example:\n",
    "\n",
    "```[('34587', 163.8), ('98762', 284.0), ('77226', 103.85000000000001), ('88112', 79.97)]```\n",
    "\n",
    "#### In each 2-tuple, the first element represents the order number of a book, and the second element represents the `total value of the order` (unit price of a book * book quantity). Just to make the question a bit more \"interesting\", the total value of the order should be increased by 5 if the total value of the order is less than 110. \n",
    "\n",
    "Hint: breakdown the question into two steps. The first step is the half without needing to add a 5 to the total value. Then in the second step, take the result from step 1 as the input to get the final solution. Note you need to use map() function more than once in this question. "
   ]
  },
  {
   "cell_type": "code",
   "execution_count": 13,
   "metadata": {},
   "outputs": [],
   "source": [
    "orders = [ [\"34587\", \"Learning Python, Mark Lutz\", 4, 40.95], \n",
    "           [\"98762\", \"Programming Python, Mark Lutz\", 5, 56.80], \n",
    "           [\"77226\", \"Head First Python, Paul Barry\", 3,32.95],\n",
    "           [\"88112\", \"Einführung in Python3, Bernd Klein\", 3, 24.99]]"
   ]
  },
  {
   "cell_type": "code",
   "execution_count": 147,
   "metadata": {
    "scrolled": true
   },
   "outputs": [
    {
     "name": "stdout",
     "output_type": "stream",
     "text": [
      "[('34587', 163.8), ('98762', 284.0), ('77226', 103.85000000000001), ('88112', 79.97)]\n"
     ]
    }
   ],
   "source": [
    "mylist = list(map(lambda rec: (rec[0], (rec[2] * rec[3])), orders))\n",
    "\n",
    "output = list(map(lambda tup: (tup[0], tup[1] + 5) if tup[1] <110 else tup, mylist))\n",
    "\n",
    "\n",
    "\n",
    "\n",
    "\n",
    "print(output)"
   ]
  },
  {
   "cell_type": "markdown",
   "metadata": {},
   "source": [
    "## Q5 (50 points)\n",
    "\n",
    "#### 1. Assume we have 15 students taking turns to roll a six-sided die. Each student will roll a die for 10 times. Generate a Numpy array called `games` that presents the result of the game. Assume rows represent the students and columns represent 10 turns. Use random seed as 101.\n",
    "\n",
    "|            | Turn 0 | Turn 1 | Turn 2 | ... | Turn 9 |\n",
    "|-----------:|--------|--------|--------|-----|--------|\n",
    "|  Student 0 | 3      | 5      | 1      |     | 4      |\n",
    "|  Student 1 | 2      | 3      | 1      |     | 6      |\n",
    "|  Student 2 | 6      | 4      | 3      |     | 3      |\n",
    "|        ... |        |        |        |     |        |\n",
    "| Student 14 | 2      | 5      | 4      |     | 2      |"
   ]
  },
  {
   "cell_type": "code",
   "execution_count": 32,
   "metadata": {},
   "outputs": [],
   "source": [
    "# Run this cell to import numpy\n",
    "import numpy as np"
   ]
  },
  {
   "cell_type": "code",
   "execution_count": 71,
   "metadata": {},
   "outputs": [
    {
     "data": {
      "text/plain": [
       "array([[4, 2, 6, 4, 2, 6, 1, 5, 1, 6],\n",
       "       [5, 5, 1, 6, 5, 6, 1, 2, 4, 3],\n",
       "       [1, 4, 6, 4, 4, 3, 5, 1, 2, 4],\n",
       "       [3, 5, 4, 1, 2, 2, 1, 5, 4, 4],\n",
       "       [5, 3, 5, 1, 2, 5, 3, 5, 1, 5],\n",
       "       [3, 5, 2, 1, 4, 4, 2, 6, 1, 5],\n",
       "       [5, 4, 3, 4, 3, 4, 5, 5, 4, 1],\n",
       "       [3, 3, 4, 6, 2, 6, 6, 3, 3, 3],\n",
       "       [5, 4, 4, 3, 2, 4, 5, 4, 4, 5],\n",
       "       [3, 6, 2, 5, 6, 1, 4, 1, 4, 6],\n",
       "       [6, 5, 5, 4, 3, 4, 3, 2, 6, 4],\n",
       "       [5, 6, 6, 6, 3, 6, 2, 4, 5, 5],\n",
       "       [4, 4, 6, 2, 2, 3, 6, 4, 1, 2],\n",
       "       [5, 6, 6, 2, 1, 5, 1, 5, 5, 3],\n",
       "       [6, 5, 6, 4, 1, 4, 6, 2, 1, 5]])"
      ]
     },
     "execution_count": 71,
     "metadata": {},
     "output_type": "execute_result"
    }
   ],
   "source": [
    "np.random.seed(101)\n",
    "games = np.random.randint(1,7,size=(15,10))\n",
    "\n",
    "\n",
    "\n",
    "\n",
    "\n",
    "\n",
    "\n",
    "# Show the array games\n",
    "games"
   ]
  },
  {
   "cell_type": "markdown",
   "metadata": {},
   "source": [
    "#### 2. Show the numbers from `Turn 2` for all students."
   ]
  },
  {
   "cell_type": "code",
   "execution_count": 72,
   "metadata": {},
   "outputs": [
    {
     "data": {
      "text/plain": [
       "array([6, 1, 6, 4, 5, 2, 3, 4, 4, 2, 5, 6, 6, 6, 6])"
      ]
     },
     "execution_count": 72,
     "metadata": {},
     "output_type": "execute_result"
    }
   ],
   "source": [
    "games[:, 2]\n",
    "\n"
   ]
  },
  {
   "cell_type": "markdown",
   "metadata": {},
   "source": [
    "#### 3. Show the numbers for the last three turns for the first three students."
   ]
  },
  {
   "cell_type": "code",
   "execution_count": 73,
   "metadata": {},
   "outputs": [
    {
     "data": {
      "text/plain": [
       "array([[5, 1, 6],\n",
       "       [2, 4, 3],\n",
       "       [1, 2, 4]])"
      ]
     },
     "execution_count": 73,
     "metadata": {},
     "output_type": "execute_result"
    }
   ],
   "source": [
    "games[:3,7:]\n",
    "\n"
   ]
  },
  {
   "cell_type": "markdown",
   "metadata": {},
   "source": [
    "#### 4. Show the numbers for `Turn 0`, `Turn 4` and `Turn 8` for `Student 1`, `Student 10` and `Student 14`."
   ]
  },
  {
   "cell_type": "code",
   "execution_count": 74,
   "metadata": {},
   "outputs": [
    {
     "data": {
      "text/plain": [
       "array([[5, 5, 4],\n",
       "       [6, 3, 6],\n",
       "       [6, 1, 1]])"
      ]
     },
     "execution_count": 74,
     "metadata": {},
     "output_type": "execute_result"
    }
   ],
   "source": [
    "games[[1,10,14]][:,[0,4,8]]\n",
    "\n"
   ]
  },
  {
   "cell_type": "markdown",
   "metadata": {},
   "source": [
    "#### 5. Find which student ID has the largest accumulated numbers over 10 turns. To receive full credits, you need to use existing Numpy methods and ufunc, and avoid using your own hands or loops. "
   ]
  },
  {
   "cell_type": "code",
   "execution_count": 75,
   "metadata": {},
   "outputs": [
    {
     "data": {
      "text/plain": [
       "11"
      ]
     },
     "execution_count": 75,
     "metadata": {},
     "output_type": "execute_result"
    }
   ],
   "source": [
    "maxSum = [sum(i) for i in games]\n",
    "\n",
    "maxSum.index(max(maxSum))"
   ]
  },
  {
   "cell_type": "markdown",
   "metadata": {},
   "source": [
    "#### 6. Find which turn number has the smallest average number from all 15 students. To receive full credits, you need to use existing Numpy methods and ufunc, and avoid using your own hands or loops. "
   ]
  },
  {
   "cell_type": "code",
   "execution_count": 97,
   "metadata": {},
   "outputs": [],
   "source": [
    "means = np.mean(games, axis = 0)"
   ]
  },
  {
   "cell_type": "code",
   "execution_count": 151,
   "metadata": {},
   "outputs": [
    {
     "data": {
      "text/plain": [
       "(array([4], dtype=int64),)"
      ]
     },
     "execution_count": 151,
     "metadata": {},
     "output_type": "execute_result"
    }
   ],
   "source": [
    "np.where(means == means.min())"
   ]
  },
  {
   "cell_type": "markdown",
   "metadata": {},
   "source": [
    "#### 7. Assume the following weights (importance) for each turn. How to get the weighted average numbers for all the students?"
   ]
  },
  {
   "cell_type": "code",
   "execution_count": 103,
   "metadata": {},
   "outputs": [],
   "source": [
    "# Execute this line to have it in your workspace. \n",
    "\n",
    "weights = [0.1, 0.1, 0.1, 0.05, 0.05, 0.05, 0.15, 0.15, 0.15, 0.1]"
   ]
  },
  {
   "cell_type": "code",
   "execution_count": 104,
   "metadata": {},
   "outputs": [
    {
     "data": {
      "text/plain": [
       "array([3.45, 3.3 , 3.25, 3.35, 3.55, 3.3 , 3.95, 3.8 , 4.2 , 3.65, 4.2 ,\n",
       "       4.6 , 3.6 , 4.05, 4.  ])"
      ]
     },
     "execution_count": 104,
     "metadata": {},
     "output_type": "execute_result"
    }
   ],
   "source": [
    "games.dot(weights)\n",
    "\n"
   ]
  },
  {
   "cell_type": "markdown",
   "metadata": {},
   "source": [
    "#### 8. Find the student IDs that rolled number 6 for more than two times (including two)."
   ]
  },
  {
   "cell_type": "code",
   "execution_count": 143,
   "metadata": {},
   "outputs": [
    {
     "name": "stdout",
     "output_type": "stream",
     "text": [
      "0\n",
      "1\n",
      "7\n",
      "9\n",
      "10\n",
      "11\n",
      "12\n",
      "13\n",
      "14\n"
     ]
    }
   ],
   "source": [
    "for i in range(len(games)):\n",
    "    filt = (games[i]==6)\n",
    "    if filt.sum() >1:\n",
    "        print(i)\n",
    "\n",
    "\n",
    "\n",
    "\n"
   ]
  },
  {
   "cell_type": "markdown",
   "metadata": {},
   "source": [
    "#### 9. Duplicate the last two turns (`Turn 8` and `Turn 9`) from array `games` and add them as two additional turns to the end of the array. The newly generated array should be named as `games_new` and the original array `games` should stay intact. \n",
    "\n",
    "Hint: study the use of the `np.hstack()` and `np.vstack()` functions. "
   ]
  },
  {
   "cell_type": "code",
   "execution_count": 148,
   "metadata": {},
   "outputs": [
    {
     "name": "stdout",
     "output_type": "stream",
     "text": [
      "Original array:\n",
      " [[4 2 6 4 2 6 1 5 1 6]\n",
      " [5 5 1 6 5 6 1 2 4 3]\n",
      " [1 4 6 4 4 3 5 1 2 4]\n",
      " [3 5 4 1 2 2 1 5 4 4]\n",
      " [5 3 5 1 2 5 3 5 1 5]\n",
      " [3 5 2 1 4 4 2 6 1 5]\n",
      " [5 4 3 4 3 4 5 5 4 1]\n",
      " [3 3 4 6 2 6 6 3 3 3]\n",
      " [5 4 4 3 2 4 5 4 4 5]\n",
      " [3 6 2 5 6 1 4 1 4 6]\n",
      " [6 5 5 4 3 4 3 2 6 4]\n",
      " [5 6 6 6 3 6 2 4 5 5]\n",
      " [4 4 6 2 2 3 6 4 1 2]\n",
      " [5 6 6 2 1 5 1 5 5 3]\n",
      " [6 5 6 4 1 4 6 2 1 5]]\n",
      "New array:\n",
      " [[4 2 6 4 2 6 1 5 1 6 1 6]\n",
      " [5 5 1 6 5 6 1 2 4 3 4 3]\n",
      " [1 4 6 4 4 3 5 1 2 4 2 4]\n",
      " [3 5 4 1 2 2 1 5 4 4 4 4]\n",
      " [5 3 5 1 2 5 3 5 1 5 1 5]\n",
      " [3 5 2 1 4 4 2 6 1 5 1 5]\n",
      " [5 4 3 4 3 4 5 5 4 1 4 1]\n",
      " [3 3 4 6 2 6 6 3 3 3 3 3]\n",
      " [5 4 4 3 2 4 5 4 4 5 4 5]\n",
      " [3 6 2 5 6 1 4 1 4 6 4 6]\n",
      " [6 5 5 4 3 4 3 2 6 4 6 4]\n",
      " [5 6 6 6 3 6 2 4 5 5 5 5]\n",
      " [4 4 6 2 2 3 6 4 1 2 1 2]\n",
      " [5 6 6 2 1 5 1 5 5 3 5 3]\n",
      " [6 5 6 4 1 4 6 2 1 5 1 5]]\n"
     ]
    }
   ],
   "source": [
    "col8and9 = games[:,[8,9]]\n",
    "games_new = np.hstack((games, col8and9.copy()))\n",
    "\n",
    "\n",
    "\n",
    "\n",
    "\n",
    "\n",
    "\n",
    "\n",
    "# Display arrays game and games_new\n",
    "print('Original array:\\n', games)\n",
    "print('New array:\\n', games_new)"
   ]
  },
  {
   "cell_type": "markdown",
   "metadata": {},
   "source": [
    "#### 10. Suppose we need to change the die used for `games_new` from a 6-sided die to a 20-sided one. \n",
    "\n",
    "<img src=\"https://img1.cgtrader.com/items/874879/95c1e35d3c/dice-6-sided-and-20-sided-3d-model-low-poly-ma-mb.jpg\" alt=\"dice\" width=\"250\"/>\n",
    "\n",
    "#### Now we need to apply a linear projection for each number from the range of [1,6] to [1,20]. The linear project should follow the following equation:\n",
    "\n",
    "```\n",
    "f(x) = floor( x * 20 / 6) - A\n",
    "```\n",
    "\n",
    "#### where x means the original number from the 6-sided die. `floor()` is a function that outputs the greatest integer less than or equal to the given input to the function. And `A `represents a random integer in the range of [0, 2] (all inclusive). Use random seed 101. Note: `A` needs to be a new random number for each projection. "
   ]
  },
  {
   "cell_type": "code",
   "execution_count": 149,
   "metadata": {},
   "outputs": [
    {
     "name": "stdout",
     "output_type": "stream",
     "text": [
      "[[12  4 19 12  5 20  3 16  2 20  3 20]\n",
      " [14 15  3 19 16 19  1  6 12  8 13 10]\n",
      " [ 2 11 18 13 13  9 15  3  4 13  6 11]\n",
      " [10 16 11  1  5  6  1 16 13 13 11 13]\n",
      " [15 10 15  2  6 16 10 14  1 14  3 16]\n",
      " [10 14  4  1 11 11  5 18  2 15  2 14]\n",
      " [14 11 10 11  9 11 16 16 11  1 12  2]\n",
      " [10  9 13 18  6 19 18  9 10 10  8  8]\n",
      " [15 12 11  8  6 12 14 12 11 15 11 15]\n",
      " [ 9 18  4 16 20  2 12  1 12 18 12 18]\n",
      " [20 14 15 13  9 12  9  6 20 13 20 13]\n",
      " [14 19 20 19 10 19  5 13 16 14 14 15]\n",
      " [12 13 19  6  6 10 19 11  1  6  2  4]\n",
      " [16 20 18  6  1 14  1 16 14  8 15  9]\n",
      " [18 15 18 13  1 13 18  5  2 15  2 14]]\n"
     ]
    }
   ],
   "source": [
    "np.random.seed(101)\n",
    "for i in range(len(games_new)):\n",
    "    for n in range(len(games_new[0])):\n",
    "        A = np.random.randint(0,3)\n",
    "        games_new[i][n] = np.floor(((games_new[i][n])*20/6)) - A\n",
    "print(games_new)\n",
    "\n",
    "\n"
   ]
  },
  {
   "cell_type": "markdown",
   "metadata": {},
   "source": [
    "# Great job!"
   ]
  }
 ],
 "metadata": {
  "kernelspec": {
   "display_name": "Python 3 (ipykernel)",
   "language": "python",
   "name": "python3"
  },
  "language_info": {
   "codemirror_mode": {
    "name": "ipython",
    "version": 3
   },
   "file_extension": ".py",
   "mimetype": "text/x-python",
   "name": "python",
   "nbconvert_exporter": "python",
   "pygments_lexer": "ipython3",
   "version": "3.9.7"
  },
  "toc": {
   "base_numbering": 1,
   "nav_menu": {},
   "number_sections": true,
   "sideBar": true,
   "skip_h1_title": false,
   "title_cell": "Table of Contents",
   "title_sidebar": "Contents",
   "toc_cell": false,
   "toc_position": {},
   "toc_section_display": true,
   "toc_window_display": false
  },
  "varInspector": {
   "cols": {
    "lenName": 16,
    "lenType": 16,
    "lenVar": 40
   },
   "kernels_config": {
    "python": {
     "delete_cmd_postfix": "",
     "delete_cmd_prefix": "del ",
     "library": "var_list.py",
     "varRefreshCmd": "print(var_dic_list())"
    },
    "r": {
     "delete_cmd_postfix": ") ",
     "delete_cmd_prefix": "rm(",
     "library": "var_list.r",
     "varRefreshCmd": "cat(var_dic_list()) "
    }
   },
   "types_to_exclude": [
    "module",
    "function",
    "builtin_function_or_method",
    "instance",
    "_Feature"
   ],
   "window_display": false
  }
 },
 "nbformat": 4,
 "nbformat_minor": 2
}
