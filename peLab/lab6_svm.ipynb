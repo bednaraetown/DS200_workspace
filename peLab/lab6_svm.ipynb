{
 "cells": [
  {
   "cell_type": "markdown",
   "metadata": {},
   "source": [
    "<h1 align='center'>DS200 - Lab6: Tweet Sentiment Classification with SVM</h1>\n",
    "\n",
    "\n",
    "## Introduction:\n",
    "\n",
    "In this lab we will perform some natural language processing tasks on our Twitter `#climatechange` dataset to evaluate user sentiment within the 280 character chunk of tweet text. \n",
    "\n",
    "We have pre-filtered the dataset to remove end-of-line characters, nonsensical characters, multiple sequential spaces, single character words, etc. \n",
    "\n",
    "In addition, we have used Textblob's built-in [sentiment function](https://planspace.org/20150607-textblob_sentiment/)  to generate the core of the dataset. This process consists of running the Textblob `polarity` and `subjectivity` sentiment analysis on the tweet text from our `#climatechange` dataset and generate the corresponding `Polarity Score` and `Subjectivity Score` as two separate features.\n",
    "\n",
    "+ **Polarity Score**: How positive or negative a text is. `-1` is very negative. `+1` is very positive.\n",
    "+ **Subjectivity Score**: How subjective, or opinionated a text is. `0` is fact. `+1` is very much an opinion.\n",
    "   \n",
    "## Lab goal:\n",
    "\n",
    "Train an SVM classifier, so that given a tweet text, the model classifies the text into three possible sentiments: \n",
    "+ Negative\n",
    "+ Neutral\n",
    "+ Positive\n",
    "\n"
   ]
  },
  {
   "cell_type": "markdown",
   "metadata": {},
   "source": [
    "## Section 1: Import Packages and Load the Data\n",
    "\n",
    "#### Import necessary packages"
   ]
  },
  {
   "cell_type": "code",
   "execution_count": 95,
   "metadata": {},
   "outputs": [],
   "source": [
    "import pandas as pd\n",
    "import numpy as np\n",
    "import matplotlib.pyplot as plt\n",
    "import seaborn as sns"
   ]
  },
  {
   "cell_type": "markdown",
   "metadata": {},
   "source": [
    "#### Load the `#climatechange` dataset from the given URL, and create a DataFrame named `climate`."
   ]
  },
  {
   "cell_type": "code",
   "execution_count": 96,
   "metadata": {},
   "outputs": [],
   "source": [
    "URL = 'https://raw.githubusercontent.com/BlueJayADAL/DS200/master/datasets/climate_change_corpus.csv'"
   ]
  },
  {
   "cell_type": "code",
   "execution_count": 97,
   "metadata": {},
   "outputs": [],
   "source": [
    "climate = pd.read_csv(URL)\n",
    "\n"
   ]
  },
  {
   "cell_type": "markdown",
   "metadata": {},
   "source": [
    "#### Show the information of the DataFrame"
   ]
  },
  {
   "cell_type": "code",
   "execution_count": 98,
   "metadata": {},
   "outputs": [
    {
     "name": "stdout",
     "output_type": "stream",
     "text": [
      "<class 'pandas.core.frame.DataFrame'>\n",
      "RangeIndex: 44127 entries, 0 to 44126\n",
      "Data columns (total 4 columns):\n",
      " #   Column        Non-Null Count  Dtype  \n",
      "---  ------        --------------  -----  \n",
      " 0   retweet_id    44127 non-null  object \n",
      " 1   tweet_text    44127 non-null  object \n",
      " 2   polarity      44127 non-null  float64\n",
      " 3   subjectivity  44127 non-null  float64\n",
      "dtypes: float64(2), object(2)\n",
      "memory usage: 1.3+ MB\n"
     ]
    }
   ],
   "source": [
    "climate.info()\n",
    "\n"
   ]
  },
  {
   "cell_type": "markdown",
   "metadata": {},
   "source": [
    "#### Display the top 5 records"
   ]
  },
  {
   "cell_type": "code",
   "execution_count": 99,
   "metadata": {},
   "outputs": [
    {
     "data": {
      "text/html": [
       "<div>\n",
       "<style scoped>\n",
       "    .dataframe tbody tr th:only-of-type {\n",
       "        vertical-align: middle;\n",
       "    }\n",
       "\n",
       "    .dataframe tbody tr th {\n",
       "        vertical-align: top;\n",
       "    }\n",
       "\n",
       "    .dataframe thead th {\n",
       "        text-align: right;\n",
       "    }\n",
       "</style>\n",
       "<table border=\"1\" class=\"dataframe\">\n",
       "  <thead>\n",
       "    <tr style=\"text-align: right;\">\n",
       "      <th></th>\n",
       "      <th>retweet_id</th>\n",
       "      <th>tweet_text</th>\n",
       "      <th>polarity</th>\n",
       "      <th>subjectivity</th>\n",
       "    </tr>\n",
       "  </thead>\n",
       "  <tbody>\n",
       "    <tr>\n",
       "      <th>0</th>\n",
       "      <td>1068067040882233344</td>\n",
       "      <td>rt unfccc delegates from around the world are ...</td>\n",
       "      <td>0.000000</td>\n",
       "      <td>0.000000</td>\n",
       "    </tr>\n",
       "    <tr>\n",
       "      <th>1</th>\n",
       "      <td>1068210734977490944</td>\n",
       "      <td>rt saskboy think we most often hear the word d...</td>\n",
       "      <td>-0.066667</td>\n",
       "      <td>0.466667</td>\n",
       "    </tr>\n",
       "    <tr>\n",
       "      <th>2</th>\n",
       "      <td>1068223231264505857</td>\n",
       "      <td>rt ecosensenow it mat not be obvious but einst...</td>\n",
       "      <td>0.000000</td>\n",
       "      <td>0.500000</td>\n",
       "    </tr>\n",
       "    <tr>\n",
       "      <th>3</th>\n",
       "      <td>1068181567510626310</td>\n",
       "      <td>rt climatecomms most americans now see climate...</td>\n",
       "      <td>-0.277778</td>\n",
       "      <td>0.722222</td>\n",
       "    </tr>\n",
       "    <tr>\n",
       "      <th>4</th>\n",
       "      <td>1068187254768590848</td>\n",
       "      <td>rt portlandbem last week federal climate chang...</td>\n",
       "      <td>0.000000</td>\n",
       "      <td>0.322222</td>\n",
       "    </tr>\n",
       "  </tbody>\n",
       "</table>\n",
       "</div>"
      ],
      "text/plain": [
       "            retweet_id                                         tweet_text  \\\n",
       "0  1068067040882233344  rt unfccc delegates from around the world are ...   \n",
       "1  1068210734977490944  rt saskboy think we most often hear the word d...   \n",
       "2  1068223231264505857  rt ecosensenow it mat not be obvious but einst...   \n",
       "3  1068181567510626310  rt climatecomms most americans now see climate...   \n",
       "4  1068187254768590848  rt portlandbem last week federal climate chang...   \n",
       "\n",
       "   polarity  subjectivity  \n",
       "0  0.000000      0.000000  \n",
       "1 -0.066667      0.466667  \n",
       "2  0.000000      0.500000  \n",
       "3 -0.277778      0.722222  \n",
       "4  0.000000      0.322222  "
      ]
     },
     "execution_count": 99,
     "metadata": {},
     "output_type": "execute_result"
    }
   ],
   "source": [
    "climate.head()\n",
    "\n"
   ]
  },
  {
   "cell_type": "markdown",
   "metadata": {},
   "source": [
    "#### Print out the tweet texts from the top 2 records"
   ]
  },
  {
   "cell_type": "code",
   "execution_count": 100,
   "metadata": {},
   "outputs": [
    {
     "name": "stdout",
     "output_type": "stream",
     "text": [
      "rt unfccc delegates from around the world are coming to katowice poland to participate in the un climatechange convention cop24 \n",
      "rt saskboy think we most often hear the word depravity when referring to careless driver who has killed someone through their reckl \n"
     ]
    }
   ],
   "source": [
    "print(climate['tweet_text'][0])\n",
    "print(climate['tweet_text'][1])\n",
    "\n",
    "\n",
    "\n",
    "\n"
   ]
  },
  {
   "cell_type": "markdown",
   "metadata": {},
   "source": [
    "#### Study the basic statistics."
   ]
  },
  {
   "cell_type": "code",
   "execution_count": 101,
   "metadata": {},
   "outputs": [
    {
     "data": {
      "text/html": [
       "<div>\n",
       "<style scoped>\n",
       "    .dataframe tbody tr th:only-of-type {\n",
       "        vertical-align: middle;\n",
       "    }\n",
       "\n",
       "    .dataframe tbody tr th {\n",
       "        vertical-align: top;\n",
       "    }\n",
       "\n",
       "    .dataframe thead th {\n",
       "        text-align: right;\n",
       "    }\n",
       "</style>\n",
       "<table border=\"1\" class=\"dataframe\">\n",
       "  <thead>\n",
       "    <tr style=\"text-align: right;\">\n",
       "      <th></th>\n",
       "      <th>polarity</th>\n",
       "      <th>subjectivity</th>\n",
       "    </tr>\n",
       "  </thead>\n",
       "  <tbody>\n",
       "    <tr>\n",
       "      <th>count</th>\n",
       "      <td>44127.000000</td>\n",
       "      <td>44127.000000</td>\n",
       "    </tr>\n",
       "    <tr>\n",
       "      <th>mean</th>\n",
       "      <td>0.084848</td>\n",
       "      <td>0.312869</td>\n",
       "    </tr>\n",
       "    <tr>\n",
       "      <th>std</th>\n",
       "      <td>0.251816</td>\n",
       "      <td>0.316471</td>\n",
       "    </tr>\n",
       "    <tr>\n",
       "      <th>min</th>\n",
       "      <td>-1.000000</td>\n",
       "      <td>0.000000</td>\n",
       "    </tr>\n",
       "    <tr>\n",
       "      <th>25%</th>\n",
       "      <td>0.000000</td>\n",
       "      <td>0.000000</td>\n",
       "    </tr>\n",
       "    <tr>\n",
       "      <th>50%</th>\n",
       "      <td>0.000000</td>\n",
       "      <td>0.277273</td>\n",
       "    </tr>\n",
       "    <tr>\n",
       "      <th>75%</th>\n",
       "      <td>0.195644</td>\n",
       "      <td>0.525000</td>\n",
       "    </tr>\n",
       "    <tr>\n",
       "      <th>max</th>\n",
       "      <td>1.000000</td>\n",
       "      <td>1.000000</td>\n",
       "    </tr>\n",
       "  </tbody>\n",
       "</table>\n",
       "</div>"
      ],
      "text/plain": [
       "           polarity  subjectivity\n",
       "count  44127.000000  44127.000000\n",
       "mean       0.084848      0.312869\n",
       "std        0.251816      0.316471\n",
       "min       -1.000000      0.000000\n",
       "25%        0.000000      0.000000\n",
       "50%        0.000000      0.277273\n",
       "75%        0.195644      0.525000\n",
       "max        1.000000      1.000000"
      ]
     },
     "execution_count": 101,
     "metadata": {},
     "output_type": "execute_result"
    }
   ],
   "source": [
    "climate.describe()"
   ]
  },
  {
   "cell_type": "markdown",
   "metadata": {},
   "source": [
    "## Section 2: EDA"
   ]
  },
  {
   "cell_type": "markdown",
   "metadata": {},
   "source": [
    "#### Plot the histograms for `polarity` and `subjectivity` within subplots. Ensure to include titles for the subplots. "
   ]
  },
  {
   "cell_type": "code",
   "execution_count": 102,
   "metadata": {},
   "outputs": [
    {
     "data": {
      "text/plain": [
       "Text(0.5, 1.0, 'Subjectivity Histogram')"
      ]
     },
     "execution_count": 102,
     "metadata": {},
     "output_type": "execute_result"
    },
    {
     "data": {
      "image/png": "[encoded data removed]",
      "text/plain": [
       "<Figure size 720x360 with 2 Axes>"
      ]
     },
     "metadata": {
      "needs_background": "light"
     },
     "output_type": "display_data"
    }
   ],
   "source": [
    "fig, axs = plt.subplots(nrows=1, ncols = 2, figsize = (10, 5))\n",
    "\n",
    "axs[0].hist(x = climate['polarity'], bins=30)\n",
    "axs[0].set_title('Polarity Histogram')\n",
    "axs[1].hist(x = climate['subjectivity'], bins=30)\n",
    "axs[1].set_title('Subjectivity Histogram')\n",
    "\n",
    "\n",
    "\n",
    "\n",
    "\n"
   ]
  },
  {
   "cell_type": "markdown",
   "metadata": {},
   "source": [
    "#### Notice from the histograms that both `polarity` and `subjectivity` columns are numerical. For the classification purpose in this lab, we need to prepare the categorical label columns. Given the following criteria:\n",
    "\n",
    "| Polarity Score Range | Meaning  | Label |\n",
    "|----------------------|----------|-------|\n",
    "| (0.6, 1]             | Positive | 1     |\n",
    "| [-0.2, 0.6]          | Neutral  | 0     |\n",
    "| [-1, -0.2)           | Negative | -1    |\n",
    "\n",
    "\n",
    "| Subjectivity Score Range | Meaning    | Label |\n",
    "|--------------------------|------------|-------|\n",
    "| (0.8, 1]                 | Subjective | 1     |\n",
    "| [0.02, 0.8]              | Neither    | 0     |\n",
    "| [0, 0.02)                | Objective  | -1    |\n",
    "\n",
    "#### Create two functions prototyped as below so that we can use them for label column generation.\n"
   ]
  },
  {
   "cell_type": "code",
   "execution_count": 103,
   "metadata": {},
   "outputs": [],
   "source": [
    "def gen_polarity_label(polarity: float) -> int:\n",
    "    '''\n",
    "    Function takes a polarity number as the input,\n",
    "    and generates a integer label\n",
    "    '''\n",
    "    if(polarity>0.6 and polarity<=1):\n",
    "        return 1\n",
    "    elif(polarity>=-0.2 and polarity<=0.6):\n",
    "        return 0\n",
    "    elif(polarity>=-1 and polarity< -0.2):\n",
    "        return -1\n",
    "    "
   ]
  },
  {
   "cell_type": "code",
   "execution_count": 104,
   "metadata": {},
   "outputs": [],
   "source": [
    "def gen_subjectivity_label(subjectivity: float) -> int:\n",
    "    '''\n",
    "    Function takes a subjectivity number as the input,\n",
    "    and generates a integer label\n",
    "    '''\n",
    "    if(subjectivity>0.8 and subjectivity<=1):\n",
    "        return 1\n",
    "    elif(subjectivity>=0.2 and subjectivity<=0.8):\n",
    "        return 0\n",
    "    elif(subjectivity>=0 and subjectivity< 0.2):\n",
    "        return -1"
   ]
  },
  {
   "cell_type": "markdown",
   "metadata": {},
   "source": [
    "#### Create two columns for the DataFrame: `polarity_label` and `subjectivity_label`."
   ]
  },
  {
   "cell_type": "code",
   "execution_count": 105,
   "metadata": {},
   "outputs": [],
   "source": [
    "climate['polarity_label'] = climate['polarity'].apply(gen_polarity_label)\n",
    "\n"
   ]
  },
  {
   "cell_type": "code",
   "execution_count": 106,
   "metadata": {},
   "outputs": [],
   "source": [
    "climate['subjectivity_label'] = climate['subjectivity'].apply(gen_subjectivity_label)\n",
    "\n"
   ]
  },
  {
   "cell_type": "markdown",
   "metadata": {},
   "source": [
    "#### Visualize the counts for the categories from `polarity_label` and `subjectivity_label` columns."
   ]
  },
  {
   "cell_type": "code",
   "execution_count": 107,
   "metadata": {},
   "outputs": [
    {
     "data": {
      "text/plain": [
       "<AxesSubplot:xlabel='polarity_label', ylabel='count'>"
      ]
     },
     "execution_count": 107,
     "metadata": {},
     "output_type": "execute_result"
    },
    {
     "data": {
      "image/png": "[encoded data removed]",
      "text/plain": [
       "<Figure size 432x288 with 1 Axes>"
      ]
     },
     "metadata": {
      "needs_background": "light"
     },
     "output_type": "display_data"
    }
   ],
   "source": [
    "sns.countplot(data=climate, x='polarity_label')\n",
    "\n"
   ]
  },
  {
   "cell_type": "code",
   "execution_count": 108,
   "metadata": {},
   "outputs": [
    {
     "data": {
      "text/plain": [
       "<AxesSubplot:xlabel='subjectivity_label', ylabel='count'>"
      ]
     },
     "execution_count": 108,
     "metadata": {},
     "output_type": "execute_result"
    },
    {
     "data": {
      "image/png": "[encoded data removed]",
      "text/plain": [
       "<Figure size 432x288 with 1 Axes>"
      ]
     },
     "metadata": {
      "needs_background": "light"
     },
     "output_type": "display_data"
    }
   ],
   "source": [
    "sns.countplot(data=climate, x='subjectivity_label')\n",
    "\n"
   ]
  },
  {
   "cell_type": "markdown",
   "metadata": {},
   "source": [
    "## Section 3: Data Transformation and Preparation"
   ]
  },
  {
   "cell_type": "markdown",
   "metadata": {},
   "source": [
    "#### Filter out three subsets from the `climate` DataFrame for each kind of `polarity_label`."
   ]
  },
  {
   "cell_type": "code",
   "execution_count": 109,
   "metadata": {},
   "outputs": [],
   "source": [
    "# The negative subset\n",
    "climate_neg = climate[climate['polarity_label']==-1]\n",
    "\n",
    "# The neutral subset\n",
    "climate_ntr = climate[climate['polarity_label']==0]\n",
    "\n",
    "# The positive subset\n",
    "climate_pos = climate[climate['polarity_label']==1]\n"
   ]
  },
  {
   "cell_type": "markdown",
   "metadata": {},
   "source": [
    "#### Use the `.sample()` method on each subset to either up-sample or down-sample it. Ensure to set argument `n = 5000` so that each subset will get 5,000 samples. Set `replace=True` when up-sampling, and `replace=False` when down-sampling. Use random seed as 101. "
   ]
  },
  {
   "cell_type": "code",
   "execution_count": 110,
   "metadata": {},
   "outputs": [],
   "source": [
    "# Up-sample the negative subset\n",
    "climate_neg = climate_neg.sample(n=5000, replace=True, random_state=101)\n",
    "\n",
    "# Down-sample the neutral subset\n",
    "climate_ntr = climate_ntr.sample(n=5000, replace=False, random_state=101)\n",
    "\n",
    "# Up-sample the positive subset\n",
    "climate_pos = climate_pos.sample(n=5000, replace=True, random_state=101)\n",
    "\n"
   ]
  },
  {
   "cell_type": "markdown",
   "metadata": {},
   "source": [
    "#### Put together the three subsets to create a balanced dataset. "
   ]
  },
  {
   "cell_type": "code",
   "execution_count": 111,
   "metadata": {},
   "outputs": [
    {
     "data": {
      "text/plain": [
       "-1    5000\n",
       " 0    5000\n",
       " 1    5000\n",
       "Name: polarity_label, dtype: int64"
      ]
     },
     "execution_count": 111,
     "metadata": {},
     "output_type": "execute_result"
    }
   ],
   "source": [
    "# Put them together\n",
    "climate_balanced = pd.concat([climate_neg, climate_ntr, climate_pos])\n",
    "\n",
    "\n",
    "# Show the value counts\n",
    "climate_balanced['polarity_label'].value_counts()"
   ]
  },
  {
   "cell_type": "markdown",
   "metadata": {},
   "source": [
    "#### Generate the Document Term Matrix (DTM):\n",
    "\n",
    "Now that we have balanced our datasets we can proceed to convert the tweet corpus into a word vector, also known as the Document Term Matrix (DTM).\n",
    "\n",
    "To do that, we need to initialize a CountVectorizer. This transformer converts the tweet texts into a word vector, in which each word becomes a 'component' of the vector and has a specific magnitude. The magnitude in our case is the occurrences to that particular word within the text. We will also perform some simple preprocessing on the DTM such as removing stop words (e.g., \"I\", \"am\", \"okay\", \"ah\", \"eh\"...), and setting the max number of words as 85.\n"
   ]
  },
  {
   "cell_type": "code",
   "execution_count": 112,
   "metadata": {},
   "outputs": [],
   "source": [
    "# Run this cell to have the Count Vectorizer\n",
    "\n",
    "from sklearn.feature_extraction.text import CountVectorizer     \n",
    "from sklearn.feature_extraction import text \n",
    "\n",
    "# Create a list of stop words\n",
    "final_stop_words = text.ENGLISH_STOP_WORDS.union(['rt', \n",
    "                                                  'cop24', \n",
    "                                                  'realdonaldtrump', \n",
    "                                                  'says', \n",
    "                                                  've', \n",
    "                                                  'want',\n",
    "                                                  'today',\n",
    "                                                  'years'])\n",
    "\n",
    "vectorizer = CountVectorizer(\n",
    "    stop_words=final_stop_words,  # Removes the customized stop words\n",
    "    analyzer = 'word',            # Use word n-gram\n",
    "    max_features = 85             # Total number of words set to 85\n",
    ")"
   ]
  },
  {
   "cell_type": "markdown",
   "metadata": {},
   "source": [
    "Use the balanced DataFrame to train the vectorizer, then transform the DataFrame into a word vector. "
   ]
  },
  {
   "cell_type": "code",
   "execution_count": 113,
   "metadata": {
    "scrolled": true
   },
   "outputs": [
    {
     "data": {
      "text/plain": [
       "(15000, 85)"
      ]
     },
     "execution_count": 113,
     "metadata": {},
     "output_type": "execute_result"
    }
   ],
   "source": [
    "# Train the vectorizer, then obtain the features\n",
    "\n",
    "features = vectorizer.fit_transform(climate_balanced['tweet_text']).toarray()\n",
    "\n",
    "features.shape"
   ]
  },
  {
   "cell_type": "code",
   "execution_count": 114,
   "metadata": {},
   "outputs": [
    {
     "data": {
      "text/plain": [
       "['act',\n",
       " 'action',\n",
       " 'address',\n",
       " 'amazing',\n",
       " 'amp',\n",
       " 'arctic',\n",
       " 'attenborough',\n",
       " 'auspol',\n",
       " 'australia',\n",
       " 'awesome',\n",
       " 'bad',\n",
       " 'beautiful',\n",
       " 'believe',\n",
       " 'best',\n",
       " 'carbon',\n",
       " 'change',\n",
       " 'children',\n",
       " 'climate',\n",
       " 'climateaction',\n",
       " 'climatechange',\n",
       " 'coal',\n",
       " 'cold',\n",
       " 'david',\n",
       " 'day',\n",
       " 'devastating',\n",
       " 'don',\n",
       " 'earth',\n",
       " 'economy',\n",
       " 'effects',\n",
       " 'emissions',\n",
       " 'energy',\n",
       " 'environment',\n",
       " 'excellent',\n",
       " 'fight',\n",
       " 'global',\n",
       " 'globalwarming',\n",
       " 'going',\n",
       " 'good',\n",
       " 'government',\n",
       " 'great',\n",
       " 'greatest',\n",
       " 'happy',\n",
       " 'hard',\n",
       " 'health',\n",
       " 'help',\n",
       " 'https',\n",
       " 'impact',\n",
       " 'impacts',\n",
       " 'just',\n",
       " 'kids',\n",
       " 'know',\n",
       " 'let',\n",
       " 'like',\n",
       " 'make',\n",
       " 'national',\n",
       " 'need',\n",
       " 'new',\n",
       " 'news',\n",
       " 'past',\n",
       " 'people',\n",
       " 'planet',\n",
       " 'proud',\n",
       " 'read',\n",
       " 'record',\n",
       " 'report',\n",
       " 'science',\n",
       " 'scientists',\n",
       " 'sir',\n",
       " 'stop',\n",
       " 'stupid',\n",
       " 'support',\n",
       " 'talk',\n",
       " 'thank',\n",
       " 'think',\n",
       " 'threat',\n",
       " 'time',\n",
       " 'trump',\n",
       " 'uk',\n",
       " 'warming',\n",
       " 'way',\n",
       " 'weather',\n",
       " 'work',\n",
       " 'world',\n",
       " 'worst',\n",
       " 'year']"
      ]
     },
     "execution_count": 114,
     "metadata": {},
     "output_type": "execute_result"
    }
   ],
   "source": [
    "# We can also obtain the 85 words from the trained vectorier\n",
    "\n",
    "columns = vectorizer.get_feature_names()\n",
    "columns"
   ]
  },
  {
   "cell_type": "markdown",
   "metadata": {},
   "source": [
    "#### Now, create the DTM in a Pandas DataFrame format. Name the DataFrame as `climate_dtm`. Ensure to create a label column `polarity_label` with the data from the `climate_balanced` DataFrame. "
   ]
  },
  {
   "cell_type": "code",
   "execution_count": 115,
   "metadata": {},
   "outputs": [],
   "source": [
    "climate_balanced.reset_index(drop=True,inplace=True)"
   ]
  },
  {
   "cell_type": "code",
   "execution_count": 116,
   "metadata": {},
   "outputs": [
    {
     "data": {
      "text/plain": [
       "0       -1\n",
       "1       -1\n",
       "2       -1\n",
       "3       -1\n",
       "4       -1\n",
       "        ..\n",
       "14995    1\n",
       "14996    1\n",
       "14997    1\n",
       "14998    1\n",
       "14999    1\n",
       "Name: polarity_label, Length: 15000, dtype: int64"
      ]
     },
     "execution_count": 116,
     "metadata": {},
     "output_type": "execute_result"
    }
   ],
   "source": [
    "climate_balanced['polarity_label']"
   ]
  },
  {
   "cell_type": "code",
   "execution_count": 117,
   "metadata": {},
   "outputs": [
    {
     "data": {
      "text/html": [
       "<div>\n",
       "<style scoped>\n",
       "    .dataframe tbody tr th:only-of-type {\n",
       "        vertical-align: middle;\n",
       "    }\n",
       "\n",
       "    .dataframe tbody tr th {\n",
       "        vertical-align: top;\n",
       "    }\n",
       "\n",
       "    .dataframe thead th {\n",
       "        text-align: right;\n",
       "    }\n",
       "</style>\n",
       "<table border=\"1\" class=\"dataframe\">\n",
       "  <thead>\n",
       "    <tr style=\"text-align: right;\">\n",
       "      <th></th>\n",
       "      <th>act</th>\n",
       "      <th>action</th>\n",
       "      <th>address</th>\n",
       "      <th>amazing</th>\n",
       "      <th>amp</th>\n",
       "      <th>arctic</th>\n",
       "      <th>attenborough</th>\n",
       "      <th>auspol</th>\n",
       "      <th>australia</th>\n",
       "      <th>awesome</th>\n",
       "      <th>...</th>\n",
       "      <th>trump</th>\n",
       "      <th>uk</th>\n",
       "      <th>warming</th>\n",
       "      <th>way</th>\n",
       "      <th>weather</th>\n",
       "      <th>work</th>\n",
       "      <th>world</th>\n",
       "      <th>worst</th>\n",
       "      <th>year</th>\n",
       "      <th>polarity_label</th>\n",
       "    </tr>\n",
       "  </thead>\n",
       "  <tbody>\n",
       "    <tr>\n",
       "      <th>0</th>\n",
       "      <td>0</td>\n",
       "      <td>0</td>\n",
       "      <td>0</td>\n",
       "      <td>0</td>\n",
       "      <td>1</td>\n",
       "      <td>0</td>\n",
       "      <td>0</td>\n",
       "      <td>0</td>\n",
       "      <td>0</td>\n",
       "      <td>0</td>\n",
       "      <td>...</td>\n",
       "      <td>0</td>\n",
       "      <td>0</td>\n",
       "      <td>0</td>\n",
       "      <td>0</td>\n",
       "      <td>0</td>\n",
       "      <td>0</td>\n",
       "      <td>1</td>\n",
       "      <td>0</td>\n",
       "      <td>0</td>\n",
       "      <td>-1</td>\n",
       "    </tr>\n",
       "    <tr>\n",
       "      <th>1</th>\n",
       "      <td>0</td>\n",
       "      <td>0</td>\n",
       "      <td>0</td>\n",
       "      <td>0</td>\n",
       "      <td>0</td>\n",
       "      <td>0</td>\n",
       "      <td>0</td>\n",
       "      <td>0</td>\n",
       "      <td>0</td>\n",
       "      <td>0</td>\n",
       "      <td>...</td>\n",
       "      <td>1</td>\n",
       "      <td>0</td>\n",
       "      <td>0</td>\n",
       "      <td>0</td>\n",
       "      <td>1</td>\n",
       "      <td>0</td>\n",
       "      <td>0</td>\n",
       "      <td>0</td>\n",
       "      <td>0</td>\n",
       "      <td>-1</td>\n",
       "    </tr>\n",
       "    <tr>\n",
       "      <th>2</th>\n",
       "      <td>0</td>\n",
       "      <td>0</td>\n",
       "      <td>0</td>\n",
       "      <td>0</td>\n",
       "      <td>0</td>\n",
       "      <td>0</td>\n",
       "      <td>0</td>\n",
       "      <td>0</td>\n",
       "      <td>0</td>\n",
       "      <td>0</td>\n",
       "      <td>...</td>\n",
       "      <td>0</td>\n",
       "      <td>0</td>\n",
       "      <td>0</td>\n",
       "      <td>0</td>\n",
       "      <td>0</td>\n",
       "      <td>0</td>\n",
       "      <td>0</td>\n",
       "      <td>0</td>\n",
       "      <td>0</td>\n",
       "      <td>-1</td>\n",
       "    </tr>\n",
       "    <tr>\n",
       "      <th>3</th>\n",
       "      <td>0</td>\n",
       "      <td>0</td>\n",
       "      <td>0</td>\n",
       "      <td>0</td>\n",
       "      <td>0</td>\n",
       "      <td>0</td>\n",
       "      <td>0</td>\n",
       "      <td>0</td>\n",
       "      <td>0</td>\n",
       "      <td>0</td>\n",
       "      <td>...</td>\n",
       "      <td>0</td>\n",
       "      <td>0</td>\n",
       "      <td>0</td>\n",
       "      <td>0</td>\n",
       "      <td>0</td>\n",
       "      <td>0</td>\n",
       "      <td>0</td>\n",
       "      <td>0</td>\n",
       "      <td>0</td>\n",
       "      <td>-1</td>\n",
       "    </tr>\n",
       "    <tr>\n",
       "      <th>4</th>\n",
       "      <td>0</td>\n",
       "      <td>0</td>\n",
       "      <td>0</td>\n",
       "      <td>0</td>\n",
       "      <td>0</td>\n",
       "      <td>0</td>\n",
       "      <td>0</td>\n",
       "      <td>0</td>\n",
       "      <td>0</td>\n",
       "      <td>0</td>\n",
       "      <td>...</td>\n",
       "      <td>0</td>\n",
       "      <td>0</td>\n",
       "      <td>1</td>\n",
       "      <td>0</td>\n",
       "      <td>0</td>\n",
       "      <td>0</td>\n",
       "      <td>0</td>\n",
       "      <td>0</td>\n",
       "      <td>0</td>\n",
       "      <td>-1</td>\n",
       "    </tr>\n",
       "  </tbody>\n",
       "</table>\n",
       "<p>5 rows × 86 columns</p>\n",
       "</div>"
      ],
      "text/plain": [
       "   act  action  address  amazing  amp  arctic  attenborough  auspol  \\\n",
       "0    0       0        0        0    1       0             0       0   \n",
       "1    0       0        0        0    0       0             0       0   \n",
       "2    0       0        0        0    0       0             0       0   \n",
       "3    0       0        0        0    0       0             0       0   \n",
       "4    0       0        0        0    0       0             0       0   \n",
       "\n",
       "   australia  awesome  ...  trump  uk  warming  way  weather  work  world  \\\n",
       "0          0        0  ...      0   0        0    0        0     0      1   \n",
       "1          0        0  ...      1   0        0    0        1     0      0   \n",
       "2          0        0  ...      0   0        0    0        0     0      0   \n",
       "3          0        0  ...      0   0        0    0        0     0      0   \n",
       "4          0        0  ...      0   0        1    0        0     0      0   \n",
       "\n",
       "   worst  year  polarity_label  \n",
       "0      0     0              -1  \n",
       "1      0     0              -1  \n",
       "2      0     0              -1  \n",
       "3      0     0              -1  \n",
       "4      0     0              -1  \n",
       "\n",
       "[5 rows x 86 columns]"
      ]
     },
     "execution_count": 117,
     "metadata": {},
     "output_type": "execute_result"
    }
   ],
   "source": [
    "climate_dtm = pd.DataFrame(data=features, columns=columns)\n",
    "climate_dtm['polarity_label'] = climate_balanced['polarity_label']\n",
    "\n",
    "\n",
    "\n",
    "# Show the new DataFrame. Scroll to right to find the label column. \n",
    "climate_dtm.head()"
   ]
  },
  {
   "cell_type": "markdown",
   "metadata": {},
   "source": [
    "#### Prepare the X feature matrix and the y label vector"
   ]
  },
  {
   "cell_type": "code",
   "execution_count": 118,
   "metadata": {},
   "outputs": [],
   "source": [
    "new_features = ['act', 'action', 'address', 'amazing', 'amp', 'arctic',\n",
    "       'attenborough', 'auspol', 'australia', 'awesome', 'bad',\n",
    "       'beautiful', 'believe', 'best', 'carbon', 'change', 'children',\n",
    "       'climate', 'climateaction', 'climatechange', 'coal', 'cold',\n",
    "       'david', 'day', 'devastating', 'don', 'earth', 'economy',\n",
    "       'effects', 'emissions', 'energy', 'environment', 'excellent',\n",
    "       'fight', 'global', 'globalwarming', 'going', 'good', 'government',\n",
    "       'great', 'greatest', 'happy', 'hard', 'health', 'help', 'https',\n",
    "       'impact', 'impacts', 'just', 'kids', 'know', 'let', 'like', 'make',\n",
    "       'national', 'need', 'new', 'news', 'past', 'people', 'planet',\n",
    "       'proud', 'read', 'record', 'report', 'science', 'scientists',\n",
    "       'sir', 'stop', 'stupid', 'support', 'talk', 'thank', 'think',\n",
    "       'threat', 'time', 'trump', 'uk', 'warming', 'way', 'weather',\n",
    "       'work', 'world', 'worst', 'year']"
   ]
  },
  {
   "cell_type": "code",
   "execution_count": 119,
   "metadata": {},
   "outputs": [],
   "source": [
    "X = climate_dtm[new_features]\n",
    "\n",
    "\n",
    "y = climate_dtm['polarity_label']\n",
    "\n"
   ]
  },
  {
   "cell_type": "markdown",
   "metadata": {},
   "source": [
    "#### As a final step for data preparation, we'll split the data into the training set and testing set. Use the test size as 20%, and set the random seed as 101."
   ]
  },
  {
   "cell_type": "code",
   "execution_count": 120,
   "metadata": {},
   "outputs": [],
   "source": [
    "from sklearn.model_selection import train_test_split"
   ]
  },
  {
   "cell_type": "code",
   "execution_count": 121,
   "metadata": {},
   "outputs": [
    {
     "name": "stdout",
     "output_type": "stream",
     "text": [
      "(12000, 85)\n",
      "(3000, 85)\n",
      "(12000,)\n",
      "(3000,)\n"
     ]
    }
   ],
   "source": [
    "X_train, X_test, y_train, y_test = train_test_split(X, \n",
    "                                                    y, \n",
    "                                                    test_size=0.2, \n",
    "                                                    random_state=101)\n",
    "\n",
    "\n",
    "\n",
    "\n",
    "\n",
    "\n",
    "# Verify the sizes\n",
    "print(X_train.shape)\n",
    "print(X_test.shape)\n",
    "print(y_train.shape)\n",
    "print(y_test.shape)"
   ]
  },
  {
   "cell_type": "code",
   "execution_count": 122,
   "metadata": {},
   "outputs": [
    {
     "data": {
      "text/plain": [
       " 1    4012\n",
       "-1    3995\n",
       " 0    3993\n",
       "Name: polarity_label, dtype: int64"
      ]
     },
     "execution_count": 122,
     "metadata": {},
     "output_type": "execute_result"
    }
   ],
   "source": [
    "# Find the value count to labels\n",
    "y_train.value_counts()"
   ]
  },
  {
   "cell_type": "markdown",
   "metadata": {},
   "source": [
    "## Section 4: Data Modeling and Evaluation\n",
    "\n",
    "Having preprocessed the data, now we can build a classifier! We'll be trying two different classifiers: 1) Logistic Regression; and 2) Support Vector Classifier.  \n",
    "\n",
    "#### Train a logistic regression model with `liblinear` solver, and random seed as 101. Then evaluate the result using confusion matrix and classification report. "
   ]
  },
  {
   "cell_type": "code",
   "execution_count": 123,
   "metadata": {},
   "outputs": [],
   "source": [
    "from sklearn.linear_model import LogisticRegression"
   ]
  },
  {
   "cell_type": "code",
   "execution_count": 124,
   "metadata": {},
   "outputs": [
    {
     "data": {
      "text/plain": [
       "LogisticRegression(random_state=101, solver='liblinear')"
      ]
     },
     "execution_count": 124,
     "metadata": {},
     "output_type": "execute_result"
    }
   ],
   "source": [
    "logmodel = LogisticRegression(solver='liblinear', random_state=101)\n",
    "\n",
    "\n",
    "logmodel.fit(X_train, y_train)"
   ]
  },
  {
   "cell_type": "code",
   "execution_count": 125,
   "metadata": {},
   "outputs": [],
   "source": [
    "logpredictions = logmodel.predict(X_test)"
   ]
  },
  {
   "cell_type": "code",
   "execution_count": 126,
   "metadata": {},
   "outputs": [],
   "source": [
    "from sklearn.metrics import classification_report, confusion_matrix"
   ]
  },
  {
   "cell_type": "code",
   "execution_count": 127,
   "metadata": {},
   "outputs": [
    {
     "name": "stdout",
     "output_type": "stream",
     "text": [
      "[[513 486   6]\n",
      " [205 767  35]\n",
      " [ 39 193 756]]\n",
      "              precision    recall  f1-score   support\n",
      "\n",
      "          -1       0.68      0.51      0.58      1005\n",
      "           0       0.53      0.76      0.63      1007\n",
      "           1       0.95      0.77      0.85       988\n",
      "\n",
      "    accuracy                           0.68      3000\n",
      "   macro avg       0.72      0.68      0.68      3000\n",
      "weighted avg       0.72      0.68      0.68      3000\n",
      "\n"
     ]
    }
   ],
   "source": [
    "print(confusion_matrix(y_test, logpredictions))\n",
    "print(classification_report(y_test, logpredictions))"
   ]
  },
  {
   "cell_type": "markdown",
   "metadata": {},
   "source": [
    "#### Train a SVC model with random seed as 101. Then evaluate the result using confusion matrix and classification report. "
   ]
  },
  {
   "cell_type": "code",
   "execution_count": 128,
   "metadata": {},
   "outputs": [],
   "source": [
    "from sklearn.svm import SVC"
   ]
  },
  {
   "cell_type": "code",
   "execution_count": 129,
   "metadata": {},
   "outputs": [
    {
     "data": {
      "text/plain": [
       "SVC(random_state=101)"
      ]
     },
     "execution_count": 129,
     "metadata": {},
     "output_type": "execute_result"
    }
   ],
   "source": [
    "# Fit the SVM model\n",
    "model = SVC(random_state=101)\n",
    "\n",
    "model.fit(X_train, y_train)\n",
    "\n"
   ]
  },
  {
   "cell_type": "code",
   "execution_count": 130,
   "metadata": {},
   "outputs": [],
   "source": [
    "predictions = model.predict(X_test)\n",
    "\n"
   ]
  },
  {
   "cell_type": "code",
   "execution_count": 131,
   "metadata": {},
   "outputs": [
    {
     "name": "stdout",
     "output_type": "stream",
     "text": [
      "[[562 440   3]\n",
      " [168 813  26]\n",
      " [ 16 190 782]]\n",
      "              precision    recall  f1-score   support\n",
      "\n",
      "          -1       0.75      0.56      0.64      1005\n",
      "           0       0.56      0.81      0.66      1007\n",
      "           1       0.96      0.79      0.87       988\n",
      "\n",
      "    accuracy                           0.72      3000\n",
      "   macro avg       0.76      0.72      0.72      3000\n",
      "weighted avg       0.76      0.72      0.72      3000\n",
      "\n"
     ]
    }
   ],
   "source": [
    "print(confusion_matrix(y_test, predictions))\n",
    "print(classification_report(y_test, predictions))"
   ]
  },
  {
   "cell_type": "markdown",
   "metadata": {},
   "source": [
    "## Section 5: Hyper-parameter Tuning"
   ]
  },
  {
   "cell_type": "markdown",
   "metadata": {},
   "source": [
    "Use the following setting for the parameter grid.\n",
    "```\n",
    "C = [10, 1, 0.1], \n",
    "gamma = [10, 1, 0.1], \n",
    "kernel = ['rbf']\n",
    "```"
   ]
  },
  {
   "cell_type": "code",
   "execution_count": 132,
   "metadata": {},
   "outputs": [],
   "source": [
    "# Create the parameter grid dictionary\n",
    "param_grid = {'C' : [10, 1, 0.1], 'gamma' : [10, 1, 0.1], 'kernel' : ['rbf']}"
   ]
  },
  {
   "cell_type": "markdown",
   "metadata": {},
   "source": [
    "#### Create a grid of estimators with `SVC()`, and train them with the training set. Set `cv=3` and `verbose=3`."
   ]
  },
  {
   "cell_type": "code",
   "execution_count": 133,
   "metadata": {},
   "outputs": [],
   "source": [
    "from sklearn.model_selection import GridSearchCV"
   ]
  },
  {
   "cell_type": "code",
   "execution_count": 134,
   "metadata": {
    "scrolled": true
   },
   "outputs": [],
   "source": [
    "grid = GridSearchCV(estimator=SVC(random_state=101),\n",
    "                    param_grid=param_grid,\n",
    "                    n_jobs=4,\n",
    "                    cv=3,\n",
    "                    verbose=3)\n"
   ]
  },
  {
   "cell_type": "code",
   "execution_count": 135,
   "metadata": {},
   "outputs": [
    {
     "name": "stdout",
     "output_type": "stream",
     "text": [
      "Fitting 3 folds for each of 9 candidates, totalling 27 fits\n"
     ]
    },
    {
     "data": {
      "text/plain": [
       "GridSearchCV(cv=3, estimator=SVC(random_state=101), n_jobs=4,\n",
       "             param_grid={'C': [10, 1, 0.1], 'gamma': [10, 1, 0.1],\n",
       "                         'kernel': ['rbf']},\n",
       "             verbose=3)"
      ]
     },
     "execution_count": 135,
     "metadata": {},
     "output_type": "execute_result"
    }
   ],
   "source": [
    "grid.fit(X_train, y_train)"
   ]
  },
  {
   "cell_type": "markdown",
   "metadata": {},
   "source": [
    "#### Print the best parameters and best model."
   ]
  },
  {
   "cell_type": "code",
   "execution_count": 136,
   "metadata": {},
   "outputs": [
    {
     "data": {
      "text/plain": [
       "{'C': 1, 'gamma': 1, 'kernel': 'rbf'}"
      ]
     },
     "execution_count": 136,
     "metadata": {},
     "output_type": "execute_result"
    }
   ],
   "source": [
    "grid.best_params_"
   ]
  },
  {
   "cell_type": "code",
   "execution_count": 137,
   "metadata": {},
   "outputs": [
    {
     "data": {
      "text/plain": [
       "SVC(C=1, gamma=1, random_state=101)"
      ]
     },
     "execution_count": 137,
     "metadata": {},
     "output_type": "execute_result"
    }
   ],
   "source": [
    "grid.best_estimator_"
   ]
  },
  {
   "cell_type": "markdown",
   "metadata": {},
   "source": [
    "#### Make a prediction with the best model and evaluate the result using confusion matrix and classification report. "
   ]
  },
  {
   "cell_type": "code",
   "execution_count": 138,
   "metadata": {},
   "outputs": [],
   "source": [
    "grid_predictions = grid.predict(X_test)"
   ]
  },
  {
   "cell_type": "code",
   "execution_count": 139,
   "metadata": {},
   "outputs": [
    {
     "name": "stdout",
     "output_type": "stream",
     "text": [
      "[[618 373  14]\n",
      " [161 824  22]\n",
      " [ 25 154 809]]\n",
      "              precision    recall  f1-score   support\n",
      "\n",
      "          -1       0.77      0.61      0.68      1005\n",
      "           0       0.61      0.82      0.70      1007\n",
      "           1       0.96      0.82      0.88       988\n",
      "\n",
      "    accuracy                           0.75      3000\n",
      "   macro avg       0.78      0.75      0.75      3000\n",
      "weighted avg       0.78      0.75      0.75      3000\n",
      "\n"
     ]
    }
   ],
   "source": [
    "print(confusion_matrix(y_test, grid_predictions))\n",
    "print(classification_report(y_test, grid_predictions))"
   ]
  },
  {
   "cell_type": "markdown",
   "metadata": {},
   "source": [
    "# Great Job!"
   ]
  }
 ],
 "metadata": {
  "kernelspec": {
   "display_name": "Python 3 (ipykernel)",
   "language": "python",
   "name": "python3"
  },
  "language_info": {
   "codemirror_mode": {
    "name": "ipython",
    "version": 3
   },
   "file_extension": ".py",
   "mimetype": "text/x-python",
   "name": "python",
   "nbconvert_exporter": "python",
   "pygments_lexer": "ipython3",
   "version": "3.9.7"
  },
  "varInspector": {
   "cols": {
    "lenName": 16,
    "lenType": 16,
    "lenVar": 40
   },
   "kernels_config": {
    "python": {
     "delete_cmd_postfix": "",
     "delete_cmd_prefix": "del ",
     "library": "var_list.py",
     "varRefreshCmd": "print(var_dic_list())"
    },
    "r": {
     "delete_cmd_postfix": ") ",
     "delete_cmd_prefix": "rm(",
     "library": "var_list.r",
     "varRefreshCmd": "cat(var_dic_list()) "
    }
   },
   "types_to_exclude": [
    "module",
    "function",
    "builtin_function_or_method",
    "instance",
    "_Feature"
   ],
   "window_display": false
  }
 },
 "nbformat": 4,
 "nbformat_minor": 2
}
